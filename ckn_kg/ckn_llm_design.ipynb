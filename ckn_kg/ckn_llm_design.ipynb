{
 "cells": [
  {
   "cell_type": "code",
   "id": "initial_id",
   "metadata": {
    "collapsed": true,
    "ExecuteTime": {
     "end_time": "2024-07-18T18:56:15.307900Z",
     "start_time": "2024-07-18T18:56:13.302790Z"
    }
   },
   "source": "!pip install -U langchain_community tiktoken langchainhub scikit-learn langchain langgraph langchain-nomic langchain_openai python-dotenv",
   "outputs": [
    {
     "name": "stdout",
     "output_type": "stream",
     "text": [
      "Requirement already satisfied: langchain_community in /Users/swithana/git/d2i/icicle-ckn/.venv/lib/python3.9/site-packages (0.2.7)\r\n",
      "Requirement already satisfied: tiktoken in /Users/swithana/git/d2i/icicle-ckn/.venv/lib/python3.9/site-packages (0.7.0)\r\n",
      "Requirement already satisfied: langchainhub in /Users/swithana/git/d2i/icicle-ckn/.venv/lib/python3.9/site-packages (0.1.20)\r\n",
      "Requirement already satisfied: scikit-learn in /Users/swithana/git/d2i/icicle-ckn/.venv/lib/python3.9/site-packages (1.5.1)\r\n",
      "Requirement already satisfied: langchain in /Users/swithana/git/d2i/icicle-ckn/.venv/lib/python3.9/site-packages (0.2.9)\r\n",
      "Requirement already satisfied: langgraph in /Users/swithana/git/d2i/icicle-ckn/.venv/lib/python3.9/site-packages (0.1.9)\r\n",
      "Requirement already satisfied: langchain-nomic in /Users/swithana/git/d2i/icicle-ckn/.venv/lib/python3.9/site-packages (0.1.2)\r\n",
      "Requirement already satisfied: langchain_openai in /Users/swithana/git/d2i/icicle-ckn/.venv/lib/python3.9/site-packages (0.1.17)\r\n",
      "Collecting python-dotenv\r\n",
      "  Obtaining dependency information for python-dotenv from https://files.pythonhosted.org/packages/6a/3e/b68c118422ec867fa7ab88444e1274aa40681c606d59ac27de5a5588f082/python_dotenv-1.0.1-py3-none-any.whl.metadata\r\n",
      "  Using cached python_dotenv-1.0.1-py3-none-any.whl.metadata (23 kB)\r\n",
      "Requirement already satisfied: PyYAML>=5.3 in /Users/swithana/git/d2i/icicle-ckn/.venv/lib/python3.9/site-packages (from langchain_community) (6.0.1)\r\n",
      "Requirement already satisfied: SQLAlchemy<3,>=1.4 in /Users/swithana/git/d2i/icicle-ckn/.venv/lib/python3.9/site-packages (from langchain_community) (2.0.31)\r\n",
      "Requirement already satisfied: aiohttp<4.0.0,>=3.8.3 in /Users/swithana/git/d2i/icicle-ckn/.venv/lib/python3.9/site-packages (from langchain_community) (3.9.5)\r\n",
      "Requirement already satisfied: dataclasses-json<0.7,>=0.5.7 in /Users/swithana/git/d2i/icicle-ckn/.venv/lib/python3.9/site-packages (from langchain_community) (0.6.7)\r\n",
      "Requirement already satisfied: langchain-core<0.3.0,>=0.2.12 in /Users/swithana/git/d2i/icicle-ckn/.venv/lib/python3.9/site-packages (from langchain_community) (0.2.21)\r\n",
      "Requirement already satisfied: langsmith<0.2.0,>=0.1.0 in /Users/swithana/git/d2i/icicle-ckn/.venv/lib/python3.9/site-packages (from langchain_community) (0.1.90)\r\n",
      "Requirement already satisfied: numpy<2,>=1 in /Users/swithana/git/d2i/icicle-ckn/.venv/lib/python3.9/site-packages (from langchain_community) (1.26.4)\r\n",
      "Requirement already satisfied: requests<3,>=2 in /Users/swithana/git/d2i/icicle-ckn/.venv/lib/python3.9/site-packages (from langchain_community) (2.32.3)\r\n",
      "Requirement already satisfied: tenacity!=8.4.0,<9.0.0,>=8.1.0 in /Users/swithana/git/d2i/icicle-ckn/.venv/lib/python3.9/site-packages (from langchain_community) (8.5.0)\r\n",
      "Requirement already satisfied: regex>=2022.1.18 in /Users/swithana/git/d2i/icicle-ckn/.venv/lib/python3.9/site-packages (from tiktoken) (2024.5.15)\r\n",
      "Requirement already satisfied: packaging<25,>=23.2 in /Users/swithana/git/d2i/icicle-ckn/.venv/lib/python3.9/site-packages (from langchainhub) (24.1)\r\n",
      "Requirement already satisfied: types-requests<3.0.0.0,>=2.31.0.2 in /Users/swithana/git/d2i/icicle-ckn/.venv/lib/python3.9/site-packages (from langchainhub) (2.32.0.20240712)\r\n",
      "Requirement already satisfied: scipy>=1.6.0 in /Users/swithana/git/d2i/icicle-ckn/.venv/lib/python3.9/site-packages (from scikit-learn) (1.13.1)\r\n",
      "Requirement already satisfied: joblib>=1.2.0 in /Users/swithana/git/d2i/icicle-ckn/.venv/lib/python3.9/site-packages (from scikit-learn) (1.4.2)\r\n",
      "Requirement already satisfied: threadpoolctl>=3.1.0 in /Users/swithana/git/d2i/icicle-ckn/.venv/lib/python3.9/site-packages (from scikit-learn) (3.5.0)\r\n",
      "Requirement already satisfied: async-timeout<5.0.0,>=4.0.0 in /Users/swithana/git/d2i/icicle-ckn/.venv/lib/python3.9/site-packages (from langchain) (4.0.3)\r\n",
      "Requirement already satisfied: langchain-text-splitters<0.3.0,>=0.2.0 in /Users/swithana/git/d2i/icicle-ckn/.venv/lib/python3.9/site-packages (from langchain) (0.2.2)\r\n",
      "Requirement already satisfied: pydantic<3,>=1 in /Users/swithana/git/d2i/icicle-ckn/.venv/lib/python3.9/site-packages (from langchain) (2.8.2)\r\n",
      "Requirement already satisfied: nomic<4.0.0,>=3.0.29 in /Users/swithana/git/d2i/icicle-ckn/.venv/lib/python3.9/site-packages (from langchain-nomic) (3.0.43)\r\n",
      "Requirement already satisfied: pillow<11.0.0,>=10.3.0 in /Users/swithana/git/d2i/icicle-ckn/.venv/lib/python3.9/site-packages (from langchain-nomic) (10.4.0)\r\n",
      "Requirement already satisfied: openai<2.0.0,>=1.32.0 in /Users/swithana/git/d2i/icicle-ckn/.venv/lib/python3.9/site-packages (from langchain_openai) (1.35.15)\r\n",
      "Requirement already satisfied: aiosignal>=1.1.2 in /Users/swithana/git/d2i/icicle-ckn/.venv/lib/python3.9/site-packages (from aiohttp<4.0.0,>=3.8.3->langchain_community) (1.3.1)\r\n",
      "Requirement already satisfied: attrs>=17.3.0 in /Users/swithana/git/d2i/icicle-ckn/.venv/lib/python3.9/site-packages (from aiohttp<4.0.0,>=3.8.3->langchain_community) (23.2.0)\r\n",
      "Requirement already satisfied: frozenlist>=1.1.1 in /Users/swithana/git/d2i/icicle-ckn/.venv/lib/python3.9/site-packages (from aiohttp<4.0.0,>=3.8.3->langchain_community) (1.4.1)\r\n",
      "Requirement already satisfied: multidict<7.0,>=4.5 in /Users/swithana/git/d2i/icicle-ckn/.venv/lib/python3.9/site-packages (from aiohttp<4.0.0,>=3.8.3->langchain_community) (6.0.5)\r\n",
      "Requirement already satisfied: yarl<2.0,>=1.0 in /Users/swithana/git/d2i/icicle-ckn/.venv/lib/python3.9/site-packages (from aiohttp<4.0.0,>=3.8.3->langchain_community) (1.9.4)\r\n",
      "Requirement already satisfied: marshmallow<4.0.0,>=3.18.0 in /Users/swithana/git/d2i/icicle-ckn/.venv/lib/python3.9/site-packages (from dataclasses-json<0.7,>=0.5.7->langchain_community) (3.21.3)\r\n",
      "Requirement already satisfied: typing-inspect<1,>=0.4.0 in /Users/swithana/git/d2i/icicle-ckn/.venv/lib/python3.9/site-packages (from dataclasses-json<0.7,>=0.5.7->langchain_community) (0.9.0)\r\n",
      "Requirement already satisfied: jsonpatch<2.0,>=1.33 in /Users/swithana/git/d2i/icicle-ckn/.venv/lib/python3.9/site-packages (from langchain-core<0.3.0,>=0.2.12->langchain_community) (1.33)\r\n",
      "Requirement already satisfied: orjson<4.0.0,>=3.9.14 in /Users/swithana/git/d2i/icicle-ckn/.venv/lib/python3.9/site-packages (from langsmith<0.2.0,>=0.1.0->langchain_community) (3.10.6)\r\n",
      "Requirement already satisfied: click in /Users/swithana/git/d2i/icicle-ckn/.venv/lib/python3.9/site-packages (from nomic<4.0.0,>=3.0.29->langchain-nomic) (8.1.7)\r\n",
      "Requirement already satisfied: jsonlines in /Users/swithana/git/d2i/icicle-ckn/.venv/lib/python3.9/site-packages (from nomic<4.0.0,>=3.0.29->langchain-nomic) (4.0.0)\r\n",
      "Requirement already satisfied: loguru in /Users/swithana/git/d2i/icicle-ckn/.venv/lib/python3.9/site-packages (from nomic<4.0.0,>=3.0.29->langchain-nomic) (0.7.2)\r\n",
      "Requirement already satisfied: rich in /Users/swithana/git/d2i/icicle-ckn/.venv/lib/python3.9/site-packages (from nomic<4.0.0,>=3.0.29->langchain-nomic) (13.7.1)\r\n",
      "Requirement already satisfied: pandas in /Users/swithana/git/d2i/icicle-ckn/.venv/lib/python3.9/site-packages (from nomic<4.0.0,>=3.0.29->langchain-nomic) (2.2.2)\r\n",
      "Requirement already satisfied: tqdm in /Users/swithana/git/d2i/icicle-ckn/.venv/lib/python3.9/site-packages (from nomic<4.0.0,>=3.0.29->langchain-nomic) (4.66.4)\r\n",
      "Requirement already satisfied: pyarrow in /Users/swithana/git/d2i/icicle-ckn/.venv/lib/python3.9/site-packages (from nomic<4.0.0,>=3.0.29->langchain-nomic) (16.1.0)\r\n",
      "Requirement already satisfied: pyjwt in /Users/swithana/git/d2i/icicle-ckn/.venv/lib/python3.9/site-packages (from nomic<4.0.0,>=3.0.29->langchain-nomic) (2.8.0)\r\n",
      "Requirement already satisfied: anyio<5,>=3.5.0 in /Users/swithana/git/d2i/icicle-ckn/.venv/lib/python3.9/site-packages (from openai<2.0.0,>=1.32.0->langchain_openai) (4.4.0)\r\n",
      "Requirement already satisfied: distro<2,>=1.7.0 in /Users/swithana/git/d2i/icicle-ckn/.venv/lib/python3.9/site-packages (from openai<2.0.0,>=1.32.0->langchain_openai) (1.9.0)\r\n",
      "Requirement already satisfied: httpx<1,>=0.23.0 in /Users/swithana/git/d2i/icicle-ckn/.venv/lib/python3.9/site-packages (from openai<2.0.0,>=1.32.0->langchain_openai) (0.27.0)\r\n",
      "Requirement already satisfied: sniffio in /Users/swithana/git/d2i/icicle-ckn/.venv/lib/python3.9/site-packages (from openai<2.0.0,>=1.32.0->langchain_openai) (1.3.1)\r\n",
      "Requirement already satisfied: typing-extensions<5,>=4.7 in /Users/swithana/git/d2i/icicle-ckn/.venv/lib/python3.9/site-packages (from openai<2.0.0,>=1.32.0->langchain_openai) (4.12.2)\r\n",
      "Requirement already satisfied: annotated-types>=0.4.0 in /Users/swithana/git/d2i/icicle-ckn/.venv/lib/python3.9/site-packages (from pydantic<3,>=1->langchain) (0.7.0)\r\n",
      "Requirement already satisfied: pydantic-core==2.20.1 in /Users/swithana/git/d2i/icicle-ckn/.venv/lib/python3.9/site-packages (from pydantic<3,>=1->langchain) (2.20.1)\r\n",
      "Requirement already satisfied: charset-normalizer<4,>=2 in /Users/swithana/git/d2i/icicle-ckn/.venv/lib/python3.9/site-packages (from requests<3,>=2->langchain_community) (3.3.2)\r\n",
      "Requirement already satisfied: idna<4,>=2.5 in /Users/swithana/git/d2i/icicle-ckn/.venv/lib/python3.9/site-packages (from requests<3,>=2->langchain_community) (3.7)\r\n",
      "Requirement already satisfied: urllib3<3,>=1.21.1 in /Users/swithana/git/d2i/icicle-ckn/.venv/lib/python3.9/site-packages (from requests<3,>=2->langchain_community) (2.2.2)\r\n",
      "Requirement already satisfied: certifi>=2017.4.17 in /Users/swithana/git/d2i/icicle-ckn/.venv/lib/python3.9/site-packages (from requests<3,>=2->langchain_community) (2024.7.4)\r\n",
      "Requirement already satisfied: exceptiongroup>=1.0.2 in /Users/swithana/git/d2i/icicle-ckn/.venv/lib/python3.9/site-packages (from anyio<5,>=3.5.0->openai<2.0.0,>=1.32.0->langchain_openai) (1.2.2)\r\n",
      "Requirement already satisfied: httpcore==1.* in /Users/swithana/git/d2i/icicle-ckn/.venv/lib/python3.9/site-packages (from httpx<1,>=0.23.0->openai<2.0.0,>=1.32.0->langchain_openai) (1.0.5)\r\n",
      "Requirement already satisfied: h11<0.15,>=0.13 in /Users/swithana/git/d2i/icicle-ckn/.venv/lib/python3.9/site-packages (from httpcore==1.*->httpx<1,>=0.23.0->openai<2.0.0,>=1.32.0->langchain_openai) (0.14.0)\r\n",
      "Requirement already satisfied: jsonpointer>=1.9 in /Users/swithana/git/d2i/icicle-ckn/.venv/lib/python3.9/site-packages (from jsonpatch<2.0,>=1.33->langchain-core<0.3.0,>=0.2.12->langchain_community) (3.0.0)\r\n",
      "Requirement already satisfied: mypy-extensions>=0.3.0 in /Users/swithana/git/d2i/icicle-ckn/.venv/lib/python3.9/site-packages (from typing-inspect<1,>=0.4.0->dataclasses-json<0.7,>=0.5.7->langchain_community) (1.0.0)\r\n",
      "Requirement already satisfied: python-dateutil>=2.8.2 in /Users/swithana/git/d2i/icicle-ckn/.venv/lib/python3.9/site-packages (from pandas->nomic<4.0.0,>=3.0.29->langchain-nomic) (2.9.0.post0)\r\n",
      "Requirement already satisfied: pytz>=2020.1 in /Users/swithana/git/d2i/icicle-ckn/.venv/lib/python3.9/site-packages (from pandas->nomic<4.0.0,>=3.0.29->langchain-nomic) (2024.1)\r\n",
      "Requirement already satisfied: tzdata>=2022.7 in /Users/swithana/git/d2i/icicle-ckn/.venv/lib/python3.9/site-packages (from pandas->nomic<4.0.0,>=3.0.29->langchain-nomic) (2024.1)\r\n",
      "Requirement already satisfied: markdown-it-py>=2.2.0 in /Users/swithana/git/d2i/icicle-ckn/.venv/lib/python3.9/site-packages (from rich->nomic<4.0.0,>=3.0.29->langchain-nomic) (3.0.0)\r\n",
      "Requirement already satisfied: pygments<3.0.0,>=2.13.0 in /Users/swithana/git/d2i/icicle-ckn/.venv/lib/python3.9/site-packages (from rich->nomic<4.0.0,>=3.0.29->langchain-nomic) (2.18.0)\r\n",
      "Requirement already satisfied: mdurl~=0.1 in /Users/swithana/git/d2i/icicle-ckn/.venv/lib/python3.9/site-packages (from markdown-it-py>=2.2.0->rich->nomic<4.0.0,>=3.0.29->langchain-nomic) (0.1.2)\r\n",
      "Requirement already satisfied: six>=1.5 in /Users/swithana/git/d2i/icicle-ckn/.venv/lib/python3.9/site-packages (from python-dateutil>=2.8.2->pandas->nomic<4.0.0,>=3.0.29->langchain-nomic) (1.16.0)\r\n",
      "Using cached python_dotenv-1.0.1-py3-none-any.whl (19 kB)\r\n",
      "Installing collected packages: python-dotenv\r\n",
      "Successfully installed python-dotenv-1.0.1\r\n",
      "\r\n",
      "\u001B[1m[\u001B[0m\u001B[34;49mnotice\u001B[0m\u001B[1;39;49m]\u001B[0m\u001B[39;49m A new release of pip is available: \u001B[0m\u001B[31;49m23.2.1\u001B[0m\u001B[39;49m -> \u001B[0m\u001B[32;49m24.1.2\u001B[0m\r\n",
      "\u001B[1m[\u001B[0m\u001B[34;49mnotice\u001B[0m\u001B[1;39;49m]\u001B[0m\u001B[39;49m To update, run: \u001B[0m\u001B[32;49mpip install --upgrade pip\u001B[0m\r\n"
     ]
    }
   ],
   "execution_count": 6
  },
  {
   "metadata": {
    "ExecuteTime": {
     "end_time": "2024-07-19T19:14:55.451343Z",
     "start_time": "2024-07-19T19:14:55.442360Z"
    }
   },
   "cell_type": "code",
   "source": [
    "from typing import Annotated, Sequence, TypedDict\n",
    "from langchain_core.messages import BaseMessage\n",
    "from langgraph.graph.message import add_messages\n",
    "from typing import Annotated, Literal, Sequence, TypedDict\n",
    "\n",
    "from langchain import hub\n",
    "from langchain_core.messages import BaseMessage, HumanMessage\n",
    "from langchain_core.output_parsers import StrOutputParser\n",
    "from langchain_core.prompts import PromptTemplate\n",
    "from langchain_core.pydantic_v1 import BaseModel, Field\n",
    "from langchain_openai import ChatOpenAI\n",
    "\n",
    "from langgraph.prebuilt import tools_condition\n",
    "from langgraph.graph import END, StateGraph, START\n",
    "from typing import List\n",
    "from langchain_core.prompts import ChatPromptTemplate\n",
    "from langgraph.graph import END, StateGraph, START\n",
    "from langchain_openai import OpenAIEmbeddings\n",
    "from langchain_text_splitters import RecursiveCharacterTextSplitter\n",
    "import os\n",
    "from dotenv import load_dotenv\n",
    "from langchain.chains import GraphCypherQAChain\n",
    "from langchain_community.graphs import Neo4jGraph\n",
    "import os\n",
    "from langgraph.prebuilt import ToolNode\n",
    "from langchain_core.tools import tool\n",
    "from langsmith import traceable\n",
    "from langsmith.wrappers import wrap_openai"
   ],
   "id": "d7537d978d6c4707",
   "outputs": [],
   "execution_count": 504
  },
  {
   "metadata": {
    "ExecuteTime": {
     "end_time": "2024-07-19T19:14:55.634509Z",
     "start_time": "2024-07-19T19:14:55.629489Z"
    }
   },
   "cell_type": "code",
   "source": "load_dotenv()",
   "id": "48c70562c67a2a35",
   "outputs": [
    {
     "data": {
      "text/plain": [
       "True"
      ]
     },
     "execution_count": 505,
     "metadata": {},
     "output_type": "execute_result"
    }
   ],
   "execution_count": 505
  },
  {
   "metadata": {
    "ExecuteTime": {
     "end_time": "2024-07-19T19:14:55.764747Z",
     "start_time": "2024-07-19T19:14:55.762482Z"
    }
   },
   "cell_type": "code",
   "source": [
    "NEO4J_URI = os.getenv(\"NEO4J_URI\")\n",
    "NEO4J_USERNAME = os.getenv(\"NEO4J_USER\")\n",
    "NEO4J_PWD = os.getenv(\"NEO4J_PWD\")"
   ],
   "id": "611259187acb7548",
   "outputs": [],
   "execution_count": 506
  },
  {
   "metadata": {
    "ExecuteTime": {
     "end_time": "2024-07-19T19:15:11.456473Z",
     "start_time": "2024-07-19T19:15:10.922769Z"
    }
   },
   "cell_type": "code",
   "source": [
    "graph = Neo4jGraph(url=NEO4J_URI, username=NEO4J_USERNAME, password=NEO4J_PWD)\n",
    "llm = ChatOpenAI(temperature=0.2, model=\"gpt-4\")"
   ],
   "id": "a1aa0cf02fe7e5ff",
   "outputs": [],
   "execution_count": 508
  },
  {
   "metadata": {
    "ExecuteTime": {
     "end_time": "2024-07-19T20:52:58.193273Z",
     "start_time": "2024-07-19T20:52:57.250882Z"
    }
   },
   "cell_type": "code",
   "source": [
    "simple_prompt = ChatPromptTemplate.from_template(\"Answer this question: {question}\")\n",
    "chain = simple_prompt | llm | StrOutputParser()\n",
    "result = chain.invoke({\"question\": \"Hi\"})\n",
    "print(result)"
   ],
   "id": "f8b9b5917e8fc12c",
   "outputs": [
    {
     "name": "stdout",
     "output_type": "stream",
     "text": [
      "Hello! How can I assist you today?\n"
     ]
    }
   ],
   "execution_count": 529
  },
  {
   "metadata": {
    "ExecuteTime": {
     "end_time": "2024-07-23T02:28:37.129641Z",
     "start_time": "2024-07-23T02:28:37.121104Z"
    }
   },
   "cell_type": "code",
   "source": "graph.schema",
   "id": "796c8ad137fd08e6",
   "outputs": [
    {
     "data": {
      "text/plain": [
       "'Node properties:\\nRawImage {UUID: STRING, ground_truth: STRING, image_name: STRING}\\nALERT {UUID: STRING, alert_name: STRING, timestamp: DATE_TIME, description: STRING, source_topic: STRING, event_data: STRING, priority: STRING}\\nExperiment {start_time: INTEGER, experiment_id: STRING}\\nEdgeDevice {device_id: STRING}\\nUser {user_id: STRING}\\nModel {model_id: STRING}\\nRelationship properties:\\nSUBMITTED_BY {submitted_time: INTEGER}\\nEXECUTED_ON {submitted_time: INTEGER}\\nPROCESSED_BY {image_decision: STRING, image_receiving_timestamp: DATE_TIME, image_store_delete_time: DATE_TIME, scores: STRING, image_scoring_timestamp: DATE_TIME, model_id: STRING, ingestion_timestamp: DATE_TIME, image_count: INTEGER}\\nUSED_BY {start_time: INTEGER}\\nThe relationships:\\n(:RawImage)-[:PROCESSED_BY]->(:Experiment)\\n(:Experiment)-[:SUBMITTED_BY]->(:User)\\n(:Experiment)-[:EXECUTED_ON]->(:EdgeDevice)\\n(:Experiment)-[:USED_BY]->(:Model)'"
      ]
     },
     "execution_count": 530,
     "metadata": {},
     "output_type": "execute_result"
    }
   ],
   "execution_count": 530
  },
  {
   "metadata": {
    "ExecuteTime": {
     "end_time": "2024-07-23T02:28:39.491256Z",
     "start_time": "2024-07-23T02:28:39.486912Z"
    }
   },
   "cell_type": "code",
   "source": [
    "sysprompt = \"\"\"You are an expert in writing Cypher queries for a Neo4j database. Write Cypher queries that avoid using directional edges. Instead of using arrows (-> or <-) for relationships, use undirected relationships by using double hyphens (--) and specify the relationship type within square brackets.\n",
    "Make sure that all relationships in the queries are undirected, \n",
    "using double hyphens and square brackets to specify the relationship type.\n",
    "\n",
    "For example, instead of:\n",
    "MATCH (u:User {{user_id: 'jstubbs'}})-[:SUBMITTED_BY]->(e:Experiment)\n",
    "RETURN COUNT(e) AS NumberOfExperimentsRunByJstubbs\n",
    "\n",
    "You should write:\n",
    "MATCH (u:User {{user_id: 'jstubbs'}})-[r:SUBMITTED_BY]-(e:Experiment)\n",
    "RETURN COUNT(e) AS NumberOfExperimentsRunByJstubbs\n",
    "\n",
    "\"\"\"\n",
    "generation_prompt = ChatPromptTemplate.from_messages(\n",
    "    [\n",
    "        (\"system\", sysprompt),\n",
    "        (\"human\", \"only return the cypher query for the question: \\n {question} \\n Schema: {schema}.\",\n",
    "        ),\n",
    "    ]\n",
    ")\n",
    "\n",
    "cypher_generator = generation_prompt | llm | StrOutputParser()"
   ],
   "id": "a3899a6e9678cc53",
   "outputs": [],
   "execution_count": 531
  },
  {
   "metadata": {
    "ExecuteTime": {
     "end_time": "2024-07-23T02:29:00.075277Z",
     "start_time": "2024-07-23T02:28:56.855724Z"
    }
   },
   "cell_type": "code",
   "source": [
    "question = \"Give all experiments by jstubbs\"\n",
    "cypher_out = cypher_generator.invoke({\"schema\": graph.schema, \"question\": question})\n",
    "print(cypher_out)"
   ],
   "id": "8616c2e3996927b",
   "outputs": [
    {
     "name": "stdout",
     "output_type": "stream",
     "text": [
      "MATCH (u:User {user_id: 'jstubbs'})-[r:SUBMITTED_BY]-(e:Experiment)\n",
      "RETURN e AS ExperimentsByJstubbs\n"
     ]
    }
   ],
   "execution_count": 532
  },
  {
   "metadata": {
    "ExecuteTime": {
     "end_time": "2024-07-19T19:15:18.197038Z",
     "start_time": "2024-07-19T19:15:18.192635Z"
    }
   },
   "cell_type": "code",
   "source": [
    "cypher_generation_check_system = \"\"\"You are a grader assessing whether a given cypherql query is syntactically correct. If it has directional edges in the query, it's not syntactically correct.\n",
    "     Give a binary score 'yes' or 'no'. 'Yes' the query is syntactically correct \"\"\"\n",
    "# Data model\n",
    "class CheckCypherGeneration(BaseModel):\n",
    "    \"\"\"Binary score for hallucination present in generation answer.\"\"\"\n",
    "\n",
    "    binary_score: str = Field(\n",
    "        description=\"Query is syntactically correct and grounded in the given schema, 'yes' or 'no'\"\n",
    "    )\n",
    "\n",
    "syntax_grader = llm.with_structured_output(CheckCypherGeneration)\n",
    "\n",
    "syntax_grader_prompt = ChatPromptTemplate.from_messages(\n",
    "    [\n",
    "        (\"system\", cypher_generation_check_system),\n",
    "        (\"human\", \"Schema: \\n\\n {schema} \\n\\n LLM generation: {cypher_generation}\"),\n",
    "    ]\n",
    ")\n",
    "\n",
    "syntax_checker = syntax_grader_prompt | syntax_grader"
   ],
   "id": "5632c10591cccc73",
   "outputs": [],
   "execution_count": 511
  },
  {
   "metadata": {
    "ExecuteTime": {
     "end_time": "2024-07-19T02:20:23.913355Z",
     "start_time": "2024-07-19T02:20:22.595712Z"
    }
   },
   "cell_type": "code",
   "source": "syntax_test = syntax_checker.invoke({\"schema\": graph.schema, \"cypher_generation\": cypher_out})",
   "id": "8ee7fea310be9980",
   "outputs": [],
   "execution_count": 495
  },
  {
   "metadata": {
    "ExecuteTime": {
     "end_time": "2024-07-19T19:15:23.096448Z",
     "start_time": "2024-07-19T19:15:23.094150Z"
    }
   },
   "cell_type": "code",
   "source": [
    "top_k = 10\n",
    "print(syntax_test)"
   ],
   "id": "2bd1563ad5884939",
   "outputs": [
    {
     "name": "stdout",
     "output_type": "stream",
     "text": [
      "binary_score='yes'\n"
     ]
    }
   ],
   "execution_count": 512
  },
  {
   "metadata": {
    "ExecuteTime": {
     "end_time": "2024-07-19T01:56:18.010161Z",
     "start_time": "2024-07-19T01:56:18.005687Z"
    }
   },
   "cell_type": "code",
   "source": [
    "# Graph query tool\n",
    "@tool\n",
    "def get_data_from_kg(query: str):\n",
    "    \"\"\"Run the query on neo4j\"\"\"\n",
    "    response = graph.query(query)[:top_k]\n",
    "    return str(response).replace(\"{\", \"{{\").replace(\"}\", \"}}\")\n",
    "\n",
    "tools = [get_data_from_kg]"
   ],
   "id": "5625ba8d8d0d96a",
   "outputs": [],
   "execution_count": 366
  },
  {
   "metadata": {
    "ExecuteTime": {
     "end_time": "2024-07-19T01:56:18.634191Z",
     "start_time": "2024-07-19T01:56:18.506105Z"
    }
   },
   "cell_type": "code",
   "source": [
    "db_response = get_data_from_kg(cypher_out)\n",
    "print(db_response)"
   ],
   "id": "4761023b834f7329",
   "outputs": [
    {
     "name": "stdout",
     "output_type": "stream",
     "text": [
      "[{{'COUNT(e)': 1}}]\n"
     ]
    }
   ],
   "execution_count": 367
  },
  {
   "metadata": {
    "ExecuteTime": {
     "end_time": "2024-07-19T19:15:27.057079Z",
     "start_time": "2024-07-19T19:15:27.053251Z"
    }
   },
   "cell_type": "code",
   "source": [
    "generation_test_system = \"\"\"You are a grader assessing whether a given result from a graph database aligns with the question asked. \n",
    "     Give a binary score 'yes' or 'no'. 'Yes' the result answers the question  \"\"\"\n",
    "# Data model\n",
    "class CheckAnswerGeneration(BaseModel):\n",
    "    \"\"\"Binary score for generated answer.\"\"\"\n",
    "\n",
    "    binary_score: str = Field(\n",
    "        description=\"Result answers the question, 'yes' or 'no'\"\n",
    "    )\n",
    "\n",
    "answer_grader_llm = llm.with_structured_output(CheckAnswerGeneration)\n",
    "\n",
    "answer_grader_prompt = ChatPromptTemplate.from_messages(\n",
    "    [\n",
    "        (\"system\", generation_test_system),\n",
    "        (\"human\", \"Question: \\n\\n {question} \\n\\n Graph query response: {query_response}\"),\n",
    "    ]\n",
    ")\n",
    "\n",
    "answer_grader = answer_grader_prompt | answer_grader_llm"
   ],
   "id": "a15a8fbb9478b9ac",
   "outputs": [],
   "execution_count": 513
  },
  {
   "metadata": {
    "ExecuteTime": {
     "end_time": "2024-07-19T01:56:20.386645Z",
     "start_time": "2024-07-19T01:56:19.594169Z"
    }
   },
   "cell_type": "code",
   "source": [
    "answer_grader_test = answer_grader.invoke({\"question\": question, \"query_response\": query_response})\n",
    "print(answer_grader_test)"
   ],
   "id": "24a492dc5dea5ee5",
   "outputs": [
    {
     "name": "stdout",
     "output_type": "stream",
     "text": [
      "binary_score='no'\n"
     ]
    }
   ],
   "execution_count": 369
  },
  {
   "metadata": {
    "ExecuteTime": {
     "end_time": "2024-07-19T19:15:30.566607Z",
     "start_time": "2024-07-19T19:15:30.564233Z"
    }
   },
   "cell_type": "code",
   "source": [
    "answer_generator_template = \"\"\"You are tasked with generating a response to the question using the context information available in query that was run on a knowledge graph. Keep the output structured if possible.\n",
    "\n",
    "question: \n",
    "{question}\n",
    "\n",
    "graph query response: \n",
    "{db_response} \n",
    " \"\"\"\n",
    "\n",
    "answer_generator_prompt = PromptTemplate(\n",
    "    input_variables=[\"question\", \"db_response\"], template=answer_generator_template\n",
    ")\n",
    "\n",
    "answer_generator = answer_generator_prompt | llm | StrOutputParser()"
   ],
   "id": "24e6897ea6983566",
   "outputs": [],
   "execution_count": 514
  },
  {
   "metadata": {
    "ExecuteTime": {
     "end_time": "2024-07-19T02:01:56.408855Z",
     "start_time": "2024-07-19T02:01:50.692896Z"
    }
   },
   "cell_type": "code",
   "source": [
    "answer_generator_test = answer_generator.invoke({\"question\": question, \"db_response\": db_response})\n",
    "print(answer_generator_test)"
   ],
   "id": "95318e05a084e14f",
   "outputs": [
    {
     "name": "stdout",
     "output_type": "stream",
     "text": [
      "Response:\n",
      "jstubbs ran 1 experiment.\n"
     ]
    }
   ],
   "execution_count": 385
  },
  {
   "metadata": {
    "ExecuteTime": {
     "end_time": "2024-07-19T19:15:32.667860Z",
     "start_time": "2024-07-19T19:15:32.665578Z"
    }
   },
   "cell_type": "code",
   "source": [
    "class GraphState(TypedDict):\n",
    "    \"\"\"\n",
    "    Represents the state of the graph\n",
    "    \"\"\"\n",
    "\n",
    "    question: str\n",
    "    generated_answer: str\n",
    "    query_response: str\n",
    "    cypher_generation: str"
   ],
   "id": "c2010ff4c5e60afa",
   "outputs": [],
   "execution_count": 515
  },
  {
   "metadata": {
    "ExecuteTime": {
     "end_time": "2024-07-19T19:15:32.949291Z",
     "start_time": "2024-07-19T19:15:32.943812Z"
    }
   },
   "cell_type": "code",
   "source": [
    "def generate_cypher(state):\n",
    "    \"\"\"\n",
    "    Generate or regenerate the cypher query.\n",
    "    \"\"\"\n",
    "    print(\"---GENERATING CYPHER QUERY---\")\n",
    "    user_question = state[\"question\"]\n",
    "    cypher_generation = state[\"cypher_generation\"]\n",
    "    \n",
    "    if cypher_generation is not None:\n",
    "        user_question = user_question + \" Previously generated cypher was wrong which was: \" + cypher_generation \n",
    "    \n",
    "    generated_cypher = cypher_generator.invoke({\"schema\": graph.get_structured_schema, \"question\": user_question})\n",
    "    print(state)\n",
    "    return {\"cypher_generation\": generated_cypher, \"question\": user_question}\n",
    "\n",
    "\n",
    "def decide_retrieve(state):\n",
    "    \"\"\"\n",
    "    Test if the cypher query is correct\n",
    "    :param state: \n",
    "    :return: \n",
    "    \"\"\"\n",
    "    cypher_generation = state[\"cypher_generation\"]\n",
    "    print(\"---DECIDING IF CYPHER QUERY IS SYNTACTICALLY CORRECT---\")\n",
    "    print(state)\n",
    "\n",
    "    score = syntax_checker.invoke({\"schema\": graph.get_structured_schema, \"cypher_generation\": cypher_generation})\n",
    "    grade = score.binary_score\n",
    "    print(f'Grade: {grade}')\n",
    "    if grade == \"yes\":\n",
    "        #correct query generated\n",
    "        print(\n",
    "            \"---DECISION: GENERATED CYPHER QUERY IS SYNTACTICALLY CORRECT---\"\n",
    "        )\n",
    "        return \"retrieve_data\"\n",
    "    else:\n",
    "        # Not correct query, regenerate\n",
    "        print(\"---DECISION: GENERATED CYPHER QUERY IS INCORRECT---\")\n",
    "        print(cypher_generation)\n",
    "        \n",
    "        return \"generate_cypher\"\n",
    "\n",
    "def execute_query(state):\n",
    "    print(\"---DECISION: EXECUTING QUERY ON GRAPH ---\")\n",
    "    print(state)\n",
    "    query = state[\"cypher_generation\"]\n",
    "    response = graph.query(query)[:top_k]\n",
    "    query_result = str(response).replace(\"{\", \"{{\").replace(\"}\", \"}}\")\n",
    "    return {\"query_response\": query_result, \"cypher_generation\": query}\n",
    "\n",
    "def generate_human_response(state):\n",
    "    print(\"---GENERATING HUMAN LIKE RESPONSE ---\")\n",
    "\n",
    "    print(state)\n",
    "\n",
    "    user_question = state[\"question\"]\n",
    "    query_response = state[\"query_response\"]\n",
    "    \n",
    "    generated_answer = answer_generator.invoke({\"question\": user_question, \"db_response\": query_response})\n",
    "    print(\"GENERATED:\" + generated_answer)\n",
    "    return {\"query_response\": query_response, \"question\": user_question, \"generated_answer\": generated_answer}\n",
    "\n",
    "    "
   ],
   "id": "a91bf53ba46e9f6a",
   "outputs": [],
   "execution_count": 516
  },
  {
   "metadata": {
    "ExecuteTime": {
     "end_time": "2024-07-19T19:15:33.856448Z",
     "start_time": "2024-07-19T19:15:33.851957Z"
    }
   },
   "cell_type": "code",
   "source": [
    "workflow = StateGraph(GraphState)\n",
    "\n",
    "# Define the nodes\n",
    "workflow.add_node(\"generate_cypher\", generate_cypher)  # retrieve\n",
    "workflow.add_node(\"execute_query\", execute_query)  # grade documents\n",
    "workflow.add_node(\"gen_human_response\", generate_human_response)  # grade documents\n",
    "# workflow.add_node(\"test_cypher_query\", decide_retrieve)  # grade documents\n",
    "# workflow.add_node(\"generate\", generate)  # generatae\n",
    "# workflow.add_node(\"transform_query\", transform_query)  # transform_query\n",
    "\n",
    "# Build graph\n",
    "workflow.add_edge(START, \"generate_cypher\")\n",
    "workflow.add_edge(\"generate_cypher\", \"execute_query\")\n",
    "workflow.add_edge(\"execute_query\", \"gen_human_response\")\n",
    "workflow.add_edge(\"gen_human_response\", END)\n",
    "# workflow.add_conditional_edges(\n",
    "#     \"generate_cypher\",\n",
    "#     decide_retrieve,\n",
    "#     {\n",
    "#         \"retrieve_data\": \"execute_query\",\n",
    "#         \"generate\": \"generate_cypher\",\n",
    "#     },\n",
    "# )\n",
    "\n",
    "# Compile\n",
    "app = workflow.compile()"
   ],
   "id": "cd920da3a494a48d",
   "outputs": [],
   "execution_count": 517
  },
  {
   "metadata": {
    "ExecuteTime": {
     "end_time": "2024-07-19T19:15:39.190065Z",
     "start_time": "2024-07-19T19:15:35.100979Z"
    }
   },
   "cell_type": "code",
   "source": [
    "from pprint import pprint\n",
    "\n",
    "# Run\n",
    "inputs = {\"question\": \"How many experiments were run by swithana?\"}\n",
    "for output in app.stream(inputs):\n",
    "    for key, value in output.items():\n",
    "        # Node\n",
    "        pprint(f\"Node '{key}':\")\n",
    "        # Optional: print full state at each node\n",
    "        # pprint.pprint(value[\"keys\"], indent=2, width=80, depth=None)\n",
    "    pprint(\"\\n---\\n\")\n",
    "\n",
    "# Final generation\n",
    "pprint(value[\"generated_answer\"])"
   ],
   "id": "cec0d33e509939c9",
   "outputs": [
    {
     "name": "stdout",
     "output_type": "stream",
     "text": [
      "---GENERATING CYPHER QUERY---\n",
      "{'question': 'How many experiments were run by swithana?', 'generated_answer': None, 'query_response': None, 'cypher_generation': None}\n",
      "\"Node 'generate_cypher':\"\n",
      "'\\n---\\n'\n",
      "---DECISION: EXECUTING QUERY ON GRAPH ---\n",
      "{'question': 'How many experiments were run by swithana?', 'generated_answer': None, 'query_response': None, 'cypher_generation': 'The Cypher query for the question \"How many experiments were run by swithana?\" would be:\\n\\n```cypher\\nMATCH (u:User {user_id: \\'swithana\\'})-[r:SUBMITTED_BY]-(e:Experiment)\\nRETURN COUNT(e) AS NumberOfExperimentsRunBySwithana\\n```'}\n"
     ]
    },
    {
     "ename": "ValueError",
     "evalue": "Generated Cypher Statement is not valid\n{code: Neo.ClientError.Statement.SyntaxError} {message: Invalid input 'The': expected 'FOREACH', 'ALTER', 'CALL', 'USING PERIODIC COMMIT', 'CREATE', 'LOAD CSV', 'START DATABASE', 'STOP DATABASE', 'DEALLOCATE', 'DELETE', 'DENY', 'DETACH', 'DROP', 'DRYRUN', 'FINISH', 'GRANT', 'INSERT', 'MATCH', 'MERGE', 'NODETACH', 'OPTIONAL', 'REALLOCATE', 'REMOVE', 'RENAME', 'RETURN', 'REVOKE', 'ENABLE SERVER', 'SET', 'SHOW', 'TERMINATE', 'UNWIND', 'USE' or 'WITH' (line 1, column 1 (offset: 0))\n\"The Cypher query for the question \"How many experiments were run by swithana?\" would be:\"\n ^}",
     "output_type": "error",
     "traceback": [
      "\u001B[0;31m---------------------------------------------------------------------------\u001B[0m",
      "\u001B[0;31mCypherSyntaxError\u001B[0m                         Traceback (most recent call last)",
      "File \u001B[0;32m~/git/d2i/icicle-ckn/.venv/lib/python3.9/site-packages/langchain_community/graphs/neo4j_graph.py:419\u001B[0m, in \u001B[0;36mNeo4jGraph.query\u001B[0;34m(self, query, params)\u001B[0m\n\u001B[1;32m    418\u001B[0m \u001B[38;5;28;01mtry\u001B[39;00m:\n\u001B[0;32m--> 419\u001B[0m     data \u001B[38;5;241m=\u001B[39m \u001B[43msession\u001B[49m\u001B[38;5;241;43m.\u001B[39;49m\u001B[43mrun\u001B[49m\u001B[43m(\u001B[49m\u001B[43mQuery\u001B[49m\u001B[43m(\u001B[49m\u001B[43mtext\u001B[49m\u001B[38;5;241;43m=\u001B[39;49m\u001B[43mquery\u001B[49m\u001B[43m,\u001B[49m\u001B[43m \u001B[49m\u001B[43mtimeout\u001B[49m\u001B[38;5;241;43m=\u001B[39;49m\u001B[38;5;28;43mself\u001B[39;49m\u001B[38;5;241;43m.\u001B[39;49m\u001B[43mtimeout\u001B[49m\u001B[43m)\u001B[49m\u001B[43m,\u001B[49m\u001B[43m \u001B[49m\u001B[43mparams\u001B[49m\u001B[43m)\u001B[49m\n\u001B[1;32m    420\u001B[0m     json_data \u001B[38;5;241m=\u001B[39m [r\u001B[38;5;241m.\u001B[39mdata() \u001B[38;5;28;01mfor\u001B[39;00m r \u001B[38;5;129;01min\u001B[39;00m data]\n",
      "File \u001B[0;32m~/git/d2i/icicle-ckn/.venv/lib/python3.9/site-packages/neo4j/_sync/work/session.py:314\u001B[0m, in \u001B[0;36mSession.run\u001B[0;34m(self, query, parameters, **kwargs)\u001B[0m\n\u001B[1;32m    313\u001B[0m parameters \u001B[38;5;241m=\u001B[39m \u001B[38;5;28mdict\u001B[39m(parameters \u001B[38;5;129;01mor\u001B[39;00m {}, \u001B[38;5;241m*\u001B[39m\u001B[38;5;241m*\u001B[39mkwargs)\n\u001B[0;32m--> 314\u001B[0m \u001B[38;5;28;43mself\u001B[39;49m\u001B[38;5;241;43m.\u001B[39;49m\u001B[43m_auto_result\u001B[49m\u001B[38;5;241;43m.\u001B[39;49m\u001B[43m_run\u001B[49m\u001B[43m(\u001B[49m\n\u001B[1;32m    315\u001B[0m \u001B[43m    \u001B[49m\u001B[43mquery\u001B[49m\u001B[43m,\u001B[49m\u001B[43m \u001B[49m\u001B[43mparameters\u001B[49m\u001B[43m,\u001B[49m\u001B[43m \u001B[49m\u001B[38;5;28;43mself\u001B[39;49m\u001B[38;5;241;43m.\u001B[39;49m\u001B[43m_config\u001B[49m\u001B[38;5;241;43m.\u001B[39;49m\u001B[43mdatabase\u001B[49m\u001B[43m,\u001B[49m\n\u001B[1;32m    316\u001B[0m \u001B[43m    \u001B[49m\u001B[38;5;28;43mself\u001B[39;49m\u001B[38;5;241;43m.\u001B[39;49m\u001B[43m_config\u001B[49m\u001B[38;5;241;43m.\u001B[39;49m\u001B[43mimpersonated_user\u001B[49m\u001B[43m,\u001B[49m\u001B[43m \u001B[49m\u001B[38;5;28;43mself\u001B[39;49m\u001B[38;5;241;43m.\u001B[39;49m\u001B[43m_config\u001B[49m\u001B[38;5;241;43m.\u001B[39;49m\u001B[43mdefault_access_mode\u001B[49m\u001B[43m,\u001B[49m\n\u001B[1;32m    317\u001B[0m \u001B[43m    \u001B[49m\u001B[43mbookmarks\u001B[49m\u001B[43m,\u001B[49m\u001B[43m \u001B[49m\u001B[38;5;28;43mself\u001B[39;49m\u001B[38;5;241;43m.\u001B[39;49m\u001B[43m_config\u001B[49m\u001B[38;5;241;43m.\u001B[39;49m\u001B[43mnotifications_min_severity\u001B[49m\u001B[43m,\u001B[49m\n\u001B[1;32m    318\u001B[0m \u001B[43m    \u001B[49m\u001B[38;5;28;43mself\u001B[39;49m\u001B[38;5;241;43m.\u001B[39;49m\u001B[43m_config\u001B[49m\u001B[38;5;241;43m.\u001B[39;49m\u001B[43mnotifications_disabled_classifications\u001B[49m\u001B[43m,\u001B[49m\n\u001B[1;32m    319\u001B[0m \u001B[43m\u001B[49m\u001B[43m)\u001B[49m\n\u001B[1;32m    321\u001B[0m \u001B[38;5;28;01mreturn\u001B[39;00m \u001B[38;5;28mself\u001B[39m\u001B[38;5;241m.\u001B[39m_auto_result\n",
      "File \u001B[0;32m~/git/d2i/icicle-ckn/.venv/lib/python3.9/site-packages/neo4j/_sync/work/result.py:221\u001B[0m, in \u001B[0;36mResult._run\u001B[0;34m(self, query, parameters, db, imp_user, access_mode, bookmarks, notifications_min_severity, notifications_disabled_classifications)\u001B[0m\n\u001B[1;32m    220\u001B[0m \u001B[38;5;28mself\u001B[39m\u001B[38;5;241m.\u001B[39m_connection\u001B[38;5;241m.\u001B[39msend_all()\n\u001B[0;32m--> 221\u001B[0m \u001B[38;5;28;43mself\u001B[39;49m\u001B[38;5;241;43m.\u001B[39;49m\u001B[43m_attach\u001B[49m\u001B[43m(\u001B[49m\u001B[43m)\u001B[49m\n",
      "File \u001B[0;32m~/git/d2i/icicle-ckn/.venv/lib/python3.9/site-packages/neo4j/_sync/work/result.py:409\u001B[0m, in \u001B[0;36mResult._attach\u001B[0;34m(self)\u001B[0m\n\u001B[1;32m    408\u001B[0m \u001B[38;5;28;01mwhile\u001B[39;00m \u001B[38;5;28mself\u001B[39m\u001B[38;5;241m.\u001B[39m_attached \u001B[38;5;129;01mis\u001B[39;00m \u001B[38;5;28;01mFalse\u001B[39;00m:\n\u001B[0;32m--> 409\u001B[0m     \u001B[38;5;28;43mself\u001B[39;49m\u001B[38;5;241;43m.\u001B[39;49m\u001B[43m_connection\u001B[49m\u001B[38;5;241;43m.\u001B[39;49m\u001B[43mfetch_message\u001B[49m\u001B[43m(\u001B[49m\u001B[43m)\u001B[49m\n",
      "File \u001B[0;32m~/git/d2i/icicle-ckn/.venv/lib/python3.9/site-packages/neo4j/_sync/io/_common.py:178\u001B[0m, in \u001B[0;36mConnectionErrorHandler.__getattr__.<locals>.outer.<locals>.inner\u001B[0;34m(*args, **kwargs)\u001B[0m\n\u001B[1;32m    177\u001B[0m \u001B[38;5;28;01mtry\u001B[39;00m:\n\u001B[0;32m--> 178\u001B[0m     \u001B[43mfunc\u001B[49m\u001B[43m(\u001B[49m\u001B[38;5;241;43m*\u001B[39;49m\u001B[43margs\u001B[49m\u001B[43m,\u001B[49m\u001B[43m \u001B[49m\u001B[38;5;241;43m*\u001B[39;49m\u001B[38;5;241;43m*\u001B[39;49m\u001B[43mkwargs\u001B[49m\u001B[43m)\u001B[49m\n\u001B[1;32m    179\u001B[0m \u001B[38;5;28;01mexcept\u001B[39;00m (Neo4jError, ServiceUnavailable, SessionExpired) \u001B[38;5;28;01mas\u001B[39;00m exc:\n",
      "File \u001B[0;32m~/git/d2i/icicle-ckn/.venv/lib/python3.9/site-packages/neo4j/_sync/io/_bolt.py:855\u001B[0m, in \u001B[0;36mBolt.fetch_message\u001B[0;34m(self)\u001B[0m\n\u001B[1;32m    852\u001B[0m tag, fields \u001B[38;5;241m=\u001B[39m \u001B[38;5;28mself\u001B[39m\u001B[38;5;241m.\u001B[39minbox\u001B[38;5;241m.\u001B[39mpop(\n\u001B[1;32m    853\u001B[0m     hydration_hooks\u001B[38;5;241m=\u001B[39m\u001B[38;5;28mself\u001B[39m\u001B[38;5;241m.\u001B[39mresponses[\u001B[38;5;241m0\u001B[39m]\u001B[38;5;241m.\u001B[39mhydration_hooks\n\u001B[1;32m    854\u001B[0m )\n\u001B[0;32m--> 855\u001B[0m res \u001B[38;5;241m=\u001B[39m \u001B[38;5;28;43mself\u001B[39;49m\u001B[38;5;241;43m.\u001B[39;49m\u001B[43m_process_message\u001B[49m\u001B[43m(\u001B[49m\u001B[43mtag\u001B[49m\u001B[43m,\u001B[49m\u001B[43m \u001B[49m\u001B[43mfields\u001B[49m\u001B[43m)\u001B[49m\n\u001B[1;32m    856\u001B[0m \u001B[38;5;28mself\u001B[39m\u001B[38;5;241m.\u001B[39midle_since \u001B[38;5;241m=\u001B[39m monotonic()\n",
      "File \u001B[0;32m~/git/d2i/icicle-ckn/.venv/lib/python3.9/site-packages/neo4j/_sync/io/_bolt5.py:370\u001B[0m, in \u001B[0;36mBolt5x0._process_message\u001B[0;34m(self, tag, fields)\u001B[0m\n\u001B[1;32m    369\u001B[0m \u001B[38;5;28;01mtry\u001B[39;00m:\n\u001B[0;32m--> 370\u001B[0m     \u001B[43mresponse\u001B[49m\u001B[38;5;241;43m.\u001B[39;49m\u001B[43mon_failure\u001B[49m\u001B[43m(\u001B[49m\u001B[43msummary_metadata\u001B[49m\u001B[43m \u001B[49m\u001B[38;5;129;43;01mor\u001B[39;49;00m\u001B[43m \u001B[49m\u001B[43m{\u001B[49m\u001B[43m}\u001B[49m\u001B[43m)\u001B[49m\n\u001B[1;32m    371\u001B[0m \u001B[38;5;28;01mexcept\u001B[39;00m (ServiceUnavailable, DatabaseUnavailable):\n",
      "File \u001B[0;32m~/git/d2i/icicle-ckn/.venv/lib/python3.9/site-packages/neo4j/_sync/io/_common.py:245\u001B[0m, in \u001B[0;36mResponse.on_failure\u001B[0;34m(self, metadata)\u001B[0m\n\u001B[1;32m    244\u001B[0m Util\u001B[38;5;241m.\u001B[39mcallback(handler)\n\u001B[0;32m--> 245\u001B[0m \u001B[38;5;28;01mraise\u001B[39;00m Neo4jError\u001B[38;5;241m.\u001B[39mhydrate(\u001B[38;5;241m*\u001B[39m\u001B[38;5;241m*\u001B[39mmetadata)\n",
      "\u001B[0;31mCypherSyntaxError\u001B[0m: {code: Neo.ClientError.Statement.SyntaxError} {message: Invalid input 'The': expected 'FOREACH', 'ALTER', 'CALL', 'USING PERIODIC COMMIT', 'CREATE', 'LOAD CSV', 'START DATABASE', 'STOP DATABASE', 'DEALLOCATE', 'DELETE', 'DENY', 'DETACH', 'DROP', 'DRYRUN', 'FINISH', 'GRANT', 'INSERT', 'MATCH', 'MERGE', 'NODETACH', 'OPTIONAL', 'REALLOCATE', 'REMOVE', 'RENAME', 'RETURN', 'REVOKE', 'ENABLE SERVER', 'SET', 'SHOW', 'TERMINATE', 'UNWIND', 'USE' or 'WITH' (line 1, column 1 (offset: 0))\n\"The Cypher query for the question \"How many experiments were run by swithana?\" would be:\"\n ^}",
      "\nDuring handling of the above exception, another exception occurred:\n",
      "\u001B[0;31mValueError\u001B[0m                                Traceback (most recent call last)",
      "Cell \u001B[0;32mIn[518], line 5\u001B[0m\n\u001B[1;32m      3\u001B[0m \u001B[38;5;66;03m# Run\u001B[39;00m\n\u001B[1;32m      4\u001B[0m inputs \u001B[38;5;241m=\u001B[39m {\u001B[38;5;124m\"\u001B[39m\u001B[38;5;124mquestion\u001B[39m\u001B[38;5;124m\"\u001B[39m: \u001B[38;5;124m\"\u001B[39m\u001B[38;5;124mHow many experiments were run by swithana?\u001B[39m\u001B[38;5;124m\"\u001B[39m}\n\u001B[0;32m----> 5\u001B[0m \u001B[38;5;28;01mfor\u001B[39;00m output \u001B[38;5;129;01min\u001B[39;00m app\u001B[38;5;241m.\u001B[39mstream(inputs):\n\u001B[1;32m      6\u001B[0m     \u001B[38;5;28;01mfor\u001B[39;00m key, value \u001B[38;5;129;01min\u001B[39;00m output\u001B[38;5;241m.\u001B[39mitems():\n\u001B[1;32m      7\u001B[0m         \u001B[38;5;66;03m# Node\u001B[39;00m\n\u001B[1;32m      8\u001B[0m         pprint(\u001B[38;5;124mf\u001B[39m\u001B[38;5;124m\"\u001B[39m\u001B[38;5;124mNode \u001B[39m\u001B[38;5;124m'\u001B[39m\u001B[38;5;132;01m{\u001B[39;00mkey\u001B[38;5;132;01m}\u001B[39;00m\u001B[38;5;124m'\u001B[39m\u001B[38;5;124m:\u001B[39m\u001B[38;5;124m\"\u001B[39m)\n",
      "File \u001B[0;32m~/git/d2i/icicle-ckn/.venv/lib/python3.9/site-packages/langgraph/pregel/__init__.py:1111\u001B[0m, in \u001B[0;36mPregel.stream\u001B[0;34m(self, input, config, stream_mode, output_keys, input_keys, interrupt_before, interrupt_after, debug)\u001B[0m\n\u001B[1;32m   1108\u001B[0m         \u001B[38;5;28;01mdel\u001B[39;00m fut, task\n\u001B[1;32m   1110\u001B[0m \u001B[38;5;66;03m# panic on failure or timeout\u001B[39;00m\n\u001B[0;32m-> 1111\u001B[0m \u001B[43m_panic_or_proceed\u001B[49m\u001B[43m(\u001B[49m\u001B[43mdone\u001B[49m\u001B[43m,\u001B[49m\u001B[43m \u001B[49m\u001B[43minflight\u001B[49m\u001B[43m,\u001B[49m\u001B[43m \u001B[49m\u001B[43mstep\u001B[49m\u001B[43m)\u001B[49m\n\u001B[1;32m   1112\u001B[0m \u001B[38;5;66;03m# don't keep futures around in memory longer than needed\u001B[39;00m\n\u001B[1;32m   1113\u001B[0m \u001B[38;5;28;01mdel\u001B[39;00m done, inflight, futures\n",
      "File \u001B[0;32m~/git/d2i/icicle-ckn/.venv/lib/python3.9/site-packages/langgraph/pregel/__init__.py:1758\u001B[0m, in \u001B[0;36m_panic_or_proceed\u001B[0;34m(done, inflight, step, timeout_exc_cls)\u001B[0m\n\u001B[1;32m   1756\u001B[0m             inflight\u001B[38;5;241m.\u001B[39mpop()\u001B[38;5;241m.\u001B[39mcancel()\n\u001B[1;32m   1757\u001B[0m         \u001B[38;5;66;03m# raise the exception\u001B[39;00m\n\u001B[0;32m-> 1758\u001B[0m         \u001B[38;5;28;01mraise\u001B[39;00m exc\n\u001B[1;32m   1760\u001B[0m \u001B[38;5;28;01mif\u001B[39;00m inflight:\n\u001B[1;32m   1761\u001B[0m     \u001B[38;5;66;03m# if we got here means we timed out\u001B[39;00m\n\u001B[1;32m   1762\u001B[0m     \u001B[38;5;28;01mwhile\u001B[39;00m inflight:\n\u001B[1;32m   1763\u001B[0m         \u001B[38;5;66;03m# cancel all pending tasks\u001B[39;00m\n",
      "File \u001B[0;32m~/git/d2i/icicle-ckn/.venv/lib/python3.9/site-packages/langgraph/pregel/executor.py:43\u001B[0m, in \u001B[0;36mBackgroundExecutor.<locals>.done\u001B[0;34m(task)\u001B[0m\n\u001B[1;32m     41\u001B[0m \u001B[38;5;28;01mdef\u001B[39;00m \u001B[38;5;21mdone\u001B[39m(task: concurrent\u001B[38;5;241m.\u001B[39mfutures\u001B[38;5;241m.\u001B[39mFuture) \u001B[38;5;241m-\u001B[39m\u001B[38;5;241m>\u001B[39m \u001B[38;5;28;01mNone\u001B[39;00m:\n\u001B[1;32m     42\u001B[0m     \u001B[38;5;28;01mtry\u001B[39;00m:\n\u001B[0;32m---> 43\u001B[0m         \u001B[43mtask\u001B[49m\u001B[38;5;241;43m.\u001B[39;49m\u001B[43mresult\u001B[49m\u001B[43m(\u001B[49m\u001B[43m)\u001B[49m\n\u001B[1;32m     44\u001B[0m     \u001B[38;5;28;01mexcept\u001B[39;00m \u001B[38;5;167;01mBaseException\u001B[39;00m:\n\u001B[1;32m     45\u001B[0m         \u001B[38;5;28;01mpass\u001B[39;00m\n",
      "File \u001B[0;32m/Library/Developer/CommandLineTools/Library/Frameworks/Python3.framework/Versions/3.9/lib/python3.9/concurrent/futures/_base.py:438\u001B[0m, in \u001B[0;36mFuture.result\u001B[0;34m(self, timeout)\u001B[0m\n\u001B[1;32m    436\u001B[0m     \u001B[38;5;28;01mraise\u001B[39;00m CancelledError()\n\u001B[1;32m    437\u001B[0m \u001B[38;5;28;01melif\u001B[39;00m \u001B[38;5;28mself\u001B[39m\u001B[38;5;241m.\u001B[39m_state \u001B[38;5;241m==\u001B[39m FINISHED:\n\u001B[0;32m--> 438\u001B[0m     \u001B[38;5;28;01mreturn\u001B[39;00m \u001B[38;5;28;43mself\u001B[39;49m\u001B[38;5;241;43m.\u001B[39;49m\u001B[43m__get_result\u001B[49m\u001B[43m(\u001B[49m\u001B[43m)\u001B[49m\n\u001B[1;32m    440\u001B[0m \u001B[38;5;28mself\u001B[39m\u001B[38;5;241m.\u001B[39m_condition\u001B[38;5;241m.\u001B[39mwait(timeout)\n\u001B[1;32m    442\u001B[0m \u001B[38;5;28;01mif\u001B[39;00m \u001B[38;5;28mself\u001B[39m\u001B[38;5;241m.\u001B[39m_state \u001B[38;5;129;01min\u001B[39;00m [CANCELLED, CANCELLED_AND_NOTIFIED]:\n",
      "File \u001B[0;32m/Library/Developer/CommandLineTools/Library/Frameworks/Python3.framework/Versions/3.9/lib/python3.9/concurrent/futures/_base.py:390\u001B[0m, in \u001B[0;36mFuture.__get_result\u001B[0;34m(self)\u001B[0m\n\u001B[1;32m    388\u001B[0m \u001B[38;5;28;01mif\u001B[39;00m \u001B[38;5;28mself\u001B[39m\u001B[38;5;241m.\u001B[39m_exception:\n\u001B[1;32m    389\u001B[0m     \u001B[38;5;28;01mtry\u001B[39;00m:\n\u001B[0;32m--> 390\u001B[0m         \u001B[38;5;28;01mraise\u001B[39;00m \u001B[38;5;28mself\u001B[39m\u001B[38;5;241m.\u001B[39m_exception\n\u001B[1;32m    391\u001B[0m     \u001B[38;5;28;01mfinally\u001B[39;00m:\n\u001B[1;32m    392\u001B[0m         \u001B[38;5;66;03m# Break a reference cycle with the exception in self._exception\u001B[39;00m\n\u001B[1;32m    393\u001B[0m         \u001B[38;5;28mself\u001B[39m \u001B[38;5;241m=\u001B[39m \u001B[38;5;28;01mNone\u001B[39;00m\n",
      "File \u001B[0;32m/Library/Developer/CommandLineTools/Library/Frameworks/Python3.framework/Versions/3.9/lib/python3.9/concurrent/futures/thread.py:52\u001B[0m, in \u001B[0;36m_WorkItem.run\u001B[0;34m(self)\u001B[0m\n\u001B[1;32m     49\u001B[0m     \u001B[38;5;28;01mreturn\u001B[39;00m\n\u001B[1;32m     51\u001B[0m \u001B[38;5;28;01mtry\u001B[39;00m:\n\u001B[0;32m---> 52\u001B[0m     result \u001B[38;5;241m=\u001B[39m \u001B[38;5;28;43mself\u001B[39;49m\u001B[38;5;241;43m.\u001B[39;49m\u001B[43mfn\u001B[49m\u001B[43m(\u001B[49m\u001B[38;5;241;43m*\u001B[39;49m\u001B[38;5;28;43mself\u001B[39;49m\u001B[38;5;241;43m.\u001B[39;49m\u001B[43margs\u001B[49m\u001B[43m,\u001B[49m\u001B[43m \u001B[49m\u001B[38;5;241;43m*\u001B[39;49m\u001B[38;5;241;43m*\u001B[39;49m\u001B[38;5;28;43mself\u001B[39;49m\u001B[38;5;241;43m.\u001B[39;49m\u001B[43mkwargs\u001B[49m\u001B[43m)\u001B[49m\n\u001B[1;32m     53\u001B[0m \u001B[38;5;28;01mexcept\u001B[39;00m \u001B[38;5;167;01mBaseException\u001B[39;00m \u001B[38;5;28;01mas\u001B[39;00m exc:\n\u001B[1;32m     54\u001B[0m     \u001B[38;5;28mself\u001B[39m\u001B[38;5;241m.\u001B[39mfuture\u001B[38;5;241m.\u001B[39mset_exception(exc)\n",
      "File \u001B[0;32m~/git/d2i/icicle-ckn/.venv/lib/python3.9/site-packages/langgraph/pregel/retry.py:25\u001B[0m, in \u001B[0;36mrun_with_retry\u001B[0;34m(task, retry_policy)\u001B[0m\n\u001B[1;32m     23\u001B[0m task\u001B[38;5;241m.\u001B[39mwrites\u001B[38;5;241m.\u001B[39mclear()\n\u001B[1;32m     24\u001B[0m \u001B[38;5;66;03m# run the task\u001B[39;00m\n\u001B[0;32m---> 25\u001B[0m \u001B[43mtask\u001B[49m\u001B[38;5;241;43m.\u001B[39;49m\u001B[43mproc\u001B[49m\u001B[38;5;241;43m.\u001B[39;49m\u001B[43minvoke\u001B[49m\u001B[43m(\u001B[49m\u001B[43mtask\u001B[49m\u001B[38;5;241;43m.\u001B[39;49m\u001B[43minput\u001B[49m\u001B[43m,\u001B[49m\u001B[43m \u001B[49m\u001B[43mtask\u001B[49m\u001B[38;5;241;43m.\u001B[39;49m\u001B[43mconfig\u001B[49m\u001B[43m)\u001B[49m\n\u001B[1;32m     26\u001B[0m \u001B[38;5;66;03m# if successful, end\u001B[39;00m\n\u001B[1;32m     27\u001B[0m \u001B[38;5;28;01mbreak\u001B[39;00m\n",
      "File \u001B[0;32m~/git/d2i/icicle-ckn/.venv/lib/python3.9/site-packages/langchain_core/runnables/base.py:2822\u001B[0m, in \u001B[0;36mRunnableSequence.invoke\u001B[0;34m(self, input, config, **kwargs)\u001B[0m\n\u001B[1;32m   2818\u001B[0m config \u001B[38;5;241m=\u001B[39m patch_config(\n\u001B[1;32m   2819\u001B[0m     config, callbacks\u001B[38;5;241m=\u001B[39mrun_manager\u001B[38;5;241m.\u001B[39mget_child(\u001B[38;5;124mf\u001B[39m\u001B[38;5;124m\"\u001B[39m\u001B[38;5;124mseq:step:\u001B[39m\u001B[38;5;132;01m{\u001B[39;00mi\u001B[38;5;241m+\u001B[39m\u001B[38;5;241m1\u001B[39m\u001B[38;5;132;01m}\u001B[39;00m\u001B[38;5;124m\"\u001B[39m)\n\u001B[1;32m   2820\u001B[0m )\n\u001B[1;32m   2821\u001B[0m \u001B[38;5;28;01mif\u001B[39;00m i \u001B[38;5;241m==\u001B[39m \u001B[38;5;241m0\u001B[39m:\n\u001B[0;32m-> 2822\u001B[0m     \u001B[38;5;28minput\u001B[39m \u001B[38;5;241m=\u001B[39m \u001B[43mstep\u001B[49m\u001B[38;5;241;43m.\u001B[39;49m\u001B[43minvoke\u001B[49m\u001B[43m(\u001B[49m\u001B[38;5;28;43minput\u001B[39;49m\u001B[43m,\u001B[49m\u001B[43m \u001B[49m\u001B[43mconfig\u001B[49m\u001B[43m,\u001B[49m\u001B[43m \u001B[49m\u001B[38;5;241;43m*\u001B[39;49m\u001B[38;5;241;43m*\u001B[39;49m\u001B[43mkwargs\u001B[49m\u001B[43m)\u001B[49m\n\u001B[1;32m   2823\u001B[0m \u001B[38;5;28;01melse\u001B[39;00m:\n\u001B[1;32m   2824\u001B[0m     \u001B[38;5;28minput\u001B[39m \u001B[38;5;241m=\u001B[39m step\u001B[38;5;241m.\u001B[39minvoke(\u001B[38;5;28minput\u001B[39m, config)\n",
      "File \u001B[0;32m~/git/d2i/icicle-ckn/.venv/lib/python3.9/site-packages/langgraph/utils.py:102\u001B[0m, in \u001B[0;36mRunnableCallable.invoke\u001B[0;34m(self, input, config, **kwargs)\u001B[0m\n\u001B[1;32m    100\u001B[0m     \u001B[38;5;28;01mif\u001B[39;00m accepts_config(\u001B[38;5;28mself\u001B[39m\u001B[38;5;241m.\u001B[39mfunc):\n\u001B[1;32m    101\u001B[0m         kwargs[\u001B[38;5;124m\"\u001B[39m\u001B[38;5;124mconfig\u001B[39m\u001B[38;5;124m\"\u001B[39m] \u001B[38;5;241m=\u001B[39m config\n\u001B[0;32m--> 102\u001B[0m     ret \u001B[38;5;241m=\u001B[39m \u001B[43mcontext\u001B[49m\u001B[38;5;241;43m.\u001B[39;49m\u001B[43mrun\u001B[49m\u001B[43m(\u001B[49m\u001B[38;5;28;43mself\u001B[39;49m\u001B[38;5;241;43m.\u001B[39;49m\u001B[43mfunc\u001B[49m\u001B[43m,\u001B[49m\u001B[43m \u001B[49m\u001B[38;5;28;43minput\u001B[39;49m\u001B[43m,\u001B[49m\u001B[43m \u001B[49m\u001B[38;5;241;43m*\u001B[39;49m\u001B[38;5;241;43m*\u001B[39;49m\u001B[43mkwargs\u001B[49m\u001B[43m)\u001B[49m\n\u001B[1;32m    103\u001B[0m \u001B[38;5;28;01mif\u001B[39;00m \u001B[38;5;28misinstance\u001B[39m(ret, Runnable) \u001B[38;5;129;01mand\u001B[39;00m \u001B[38;5;28mself\u001B[39m\u001B[38;5;241m.\u001B[39mrecurse:\n\u001B[1;32m    104\u001B[0m     \u001B[38;5;28;01mreturn\u001B[39;00m ret\u001B[38;5;241m.\u001B[39minvoke(\u001B[38;5;28minput\u001B[39m, config)\n",
      "Cell \u001B[0;32mIn[516], line 47\u001B[0m, in \u001B[0;36mexecute_query\u001B[0;34m(state)\u001B[0m\n\u001B[1;32m     45\u001B[0m \u001B[38;5;28mprint\u001B[39m(state)\n\u001B[1;32m     46\u001B[0m query \u001B[38;5;241m=\u001B[39m state[\u001B[38;5;124m\"\u001B[39m\u001B[38;5;124mcypher_generation\u001B[39m\u001B[38;5;124m\"\u001B[39m]\n\u001B[0;32m---> 47\u001B[0m response \u001B[38;5;241m=\u001B[39m \u001B[43mgraph\u001B[49m\u001B[38;5;241;43m.\u001B[39;49m\u001B[43mquery\u001B[49m\u001B[43m(\u001B[49m\u001B[43mquery\u001B[49m\u001B[43m)\u001B[49m[:top_k]\n\u001B[1;32m     48\u001B[0m query_result \u001B[38;5;241m=\u001B[39m \u001B[38;5;28mstr\u001B[39m(response)\u001B[38;5;241m.\u001B[39mreplace(\u001B[38;5;124m\"\u001B[39m\u001B[38;5;124m{\u001B[39m\u001B[38;5;124m\"\u001B[39m, \u001B[38;5;124m\"\u001B[39m\u001B[38;5;124m{{\u001B[39m\u001B[38;5;124m\"\u001B[39m)\u001B[38;5;241m.\u001B[39mreplace(\u001B[38;5;124m\"\u001B[39m\u001B[38;5;124m}\u001B[39m\u001B[38;5;124m\"\u001B[39m, \u001B[38;5;124m\"\u001B[39m\u001B[38;5;124m}}\u001B[39m\u001B[38;5;124m\"\u001B[39m)\n\u001B[1;32m     49\u001B[0m \u001B[38;5;28;01mreturn\u001B[39;00m {\u001B[38;5;124m\"\u001B[39m\u001B[38;5;124mquery_response\u001B[39m\u001B[38;5;124m\"\u001B[39m: query_result, \u001B[38;5;124m\"\u001B[39m\u001B[38;5;124mcypher_generation\u001B[39m\u001B[38;5;124m\"\u001B[39m: query}\n",
      "File \u001B[0;32m~/git/d2i/icicle-ckn/.venv/lib/python3.9/site-packages/langchain_community/graphs/neo4j_graph.py:425\u001B[0m, in \u001B[0;36mNeo4jGraph.query\u001B[0;34m(self, query, params)\u001B[0m\n\u001B[1;32m    423\u001B[0m     \u001B[38;5;28;01mreturn\u001B[39;00m json_data\n\u001B[1;32m    424\u001B[0m \u001B[38;5;28;01mexcept\u001B[39;00m CypherSyntaxError \u001B[38;5;28;01mas\u001B[39;00m e:\n\u001B[0;32m--> 425\u001B[0m     \u001B[38;5;28;01mraise\u001B[39;00m \u001B[38;5;167;01mValueError\u001B[39;00m(\u001B[38;5;124mf\u001B[39m\u001B[38;5;124m\"\u001B[39m\u001B[38;5;124mGenerated Cypher Statement is not valid\u001B[39m\u001B[38;5;130;01m\\n\u001B[39;00m\u001B[38;5;132;01m{\u001B[39;00me\u001B[38;5;132;01m}\u001B[39;00m\u001B[38;5;124m\"\u001B[39m)\n",
      "\u001B[0;31mValueError\u001B[0m: Generated Cypher Statement is not valid\n{code: Neo.ClientError.Statement.SyntaxError} {message: Invalid input 'The': expected 'FOREACH', 'ALTER', 'CALL', 'USING PERIODIC COMMIT', 'CREATE', 'LOAD CSV', 'START DATABASE', 'STOP DATABASE', 'DEALLOCATE', 'DELETE', 'DENY', 'DETACH', 'DROP', 'DRYRUN', 'FINISH', 'GRANT', 'INSERT', 'MATCH', 'MERGE', 'NODETACH', 'OPTIONAL', 'REALLOCATE', 'REMOVE', 'RENAME', 'RETURN', 'REVOKE', 'ENABLE SERVER', 'SET', 'SHOW', 'TERMINATE', 'UNWIND', 'USE' or 'WITH' (line 1, column 1 (offset: 0))\n\"The Cypher query for the question \"How many experiments were run by swithana?\" would be:\"\n ^}"
     ]
    }
   ],
   "execution_count": 518
  },
  {
   "metadata": {},
   "cell_type": "code",
   "source": "",
   "id": "b23e13fd5d3eca6c",
   "outputs": [],
   "execution_count": null
  }
 ],
 "metadata": {
  "kernelspec": {
   "display_name": "Python 3",
   "language": "python",
   "name": "python3"
  },
  "language_info": {
   "codemirror_mode": {
    "name": "ipython",
    "version": 2
   },
   "file_extension": ".py",
   "mimetype": "text/x-python",
   "name": "python",
   "nbconvert_exporter": "python",
   "pygments_lexer": "ipython2",
   "version": "2.7.6"
  }
 },
 "nbformat": 4,
 "nbformat_minor": 5
}
